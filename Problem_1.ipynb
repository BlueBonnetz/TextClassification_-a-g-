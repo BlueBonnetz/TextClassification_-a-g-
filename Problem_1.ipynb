{
 "cells": [
  {
   "cell_type": "code",
   "execution_count": 1,
   "id": "a4481af1",
   "metadata": {},
   "outputs": [
    {
     "name": "stderr",
     "output_type": "stream",
     "text": [
      "/Users/lapislux/opt/anaconda3/envs/tf/lib/python3.10/site-packages/scipy/__init__.py:146: UserWarning: A NumPy version >=1.16.5 and <1.23.0 is required for this version of SciPy (detected version 1.24.0\n"
     ]
    }
   ],
   "source": [
    "import pandas as pd\n",
    "import numpy as np\n",
    "from pythainlp import word_tokenize\n",
    "from tqdm import tqdm_notebook\n",
    "import re\n",
    "import emoji\n",
    "from plotnine import *\n",
    "import matplotlib.pyplot as plt\n",
    "import seaborn as sns\n",
    "from sklearn.feature_extraction.text import TfidfVectorizer\n",
    "from sklearn.linear_model import LogisticRegression\n",
    "from sklearn.metrics import classification_report\n",
    "from sklearn.preprocessing import StandardScaler\n",
    "from sklearn.metrics import confusion_matrix\n",
    "from sklearn.model_selection import train_test_split\n",
    "from sklearn.metrics import accuracy_score\n",
    "from sklearn.ensemble import RandomForestClassifier\n",
    "from sklearn.svm import LinearSVC\n",
    "from sklearn.linear_model import LogisticRegression\n",
    "from sklearn.ensemble import StackingClassifier\n",
    "from sklearn.neighbors import KNeighborsClassifier\n",
    "from sklearn.model_selection import GridSearchCV\n",
    "from sklearn.naive_bayes import MultinomialNB\n",
    "from sklearn.naive_bayes import ComplementNB\n",
    "import time"
   ]
  },
  {
   "cell_type": "code",
   "execution_count": 2,
   "id": "3fac641b",
   "metadata": {},
   "outputs": [],
   "source": [
    "def replace_url(text):\n",
    "    URL_PATTERN = r\"\"\"(?i)\\b((?:https?:(?:/{1,3}|[a-z0-9%])|[a-z0-9.\\-]+[.](?:com|net|org|edu|gov|mil|aero|asia|biz|cat|coop|info|int|jobs|mobi|museum|name|post|pro|tel|travel|xxx|ac|ad|ae|af|ag|ai|al|am|an|ao|aq|ar|as|at|au|aw|ax|az|ba|bb|bd|be|bf|bg|bh|bi|bj|bm|bn|bo|br|bs|bt|bv|bw|by|bz|ca|cc|cd|cf|cg|ch|ci|ck|cl|cm|cn|co|cr|cs|cu|cv|cx|cy|cz|dd|de|dj|dk|dm|do|dz|ec|ee|eg|eh|er|es|et|eu|fi|fj|fk|fm|fo|fr|ga|gb|gd|ge|gf|gg|gh|gi|gl|gm|gn|gp|gq|gr|gs|gt|gu|gw|gy|hk|hm|hn|hr|ht|hu|id|ie|il|im|in|io|iq|ir|is|it|je|jm|jo|jp|ke|kg|kh|ki|km|kn|kp|kr|kw|ky|kz|la|lb|lc|li|lk|lr|ls|lt|lu|lv|ly|ma|mc|md|me|mg|mh|mk|ml|mm|mn|mo|mp|mq|mr|ms|mt|mu|mv|mw|mx|my|mz|na|nc|ne|nf|ng|ni|nl|no|np|nr|nu|nz|om|pa|pe|pf|pg|ph|pk|pl|pm|pn|pr|ps|pt|pw|py|qa|re|ro|rs|ru|rw|sa|sb|sc|sd|se|sg|sh|si|sj|Ja|sk|sl|sm|sn|so|sr|ss|st|su|sv|sx|sy|sz|tc|td|tf|tg|th|tj|tk|tl|tm|tn|to|tp|tr|tt|tv|tw|tz|ua|ug|uk|us|uy|uz|va|vc|ve|vg|vi|vn|vu|wf|ws|ye|yt|yu|za|zm|zw)/)(?:[^\\s()<>{}\\[\\]]+|\\([^\\s()]*?\\([^\\s()]+\\)[^\\s()]*?\\)|\\([^\\s]+?\\))+(?:\\([^\\s()]*?\\([^\\s()]+\\)[^\\s()]*?\\)|\\([^\\s]+?\\)|[^\\s`!()\\[\\]{};:'\".,<>?«»“”‘’])|(?:(?<!@)[a-z0-9]+(?:[.\\-][a-z0-9]+)*[.](?:com|net|org|edu|gov|mil|aero|asia|biz|cat|coop|info|int|jobs|mobi|museum|name|post|pro|tel|travel|xxx|ac|ad|ae|af|ag|ai|al|am|an|ao|aq|ar|as|at|au|aw|ax|az|ba|bb|bd|be|bf|bg|bh|bi|bj|bm|bn|bo|br|bs|bt|bv|bw|by|bz|ca|cc|cd|cf|cg|ch|ci|ck|cl|cm|cn|co|cr|cs|cu|cv|cx|cy|cz|dd|de|dj|dk|dm|do|dz|ec|ee|eg|eh|er|es|et|eu|fi|fj|fk|fm|fo|fr|ga|gb|gd|ge|gf|gg|gh|gi|gl|gm|gn|gp|gq|gr|gs|gt|gu|gw|gy|hk|hm|hn|hr|ht|hu|id|ie|il|im|in|io|iq|ir|is|it|je|jm|jo|jp|ke|kg|kh|ki|km|kn|kp|kr|kw|ky|kz|la|lb|lc|li|lk|lr|ls|lt|lu|lv|ly|ma|mc|md|me|mg|mh|mk|ml|mm|mn|mo|mp|mq|mr|ms|mt|mu|mv|mw|mx|my|mz|na|nc|ne|nf|ng|ni|nl|no|np|nr|nu|nz|om|pa|pe|pf|pg|ph|pk|pl|pm|pn|pr|ps|pt|pw|py|qa|re|ro|rs|ru|rw|sa|sb|sc|sd|se|sg|sh|si|sj|Ja|sk|sl|sm|sn|so|sr|ss|st|su|sv|sx|sy|sz|tc|td|tf|tg|th|tj|tk|tl|tm|tn|to|tp|tr|tt|tv|tw|tz|ua|ug|uk|us|uy|uz|va|vc|ve|vg|vi|vn|vu|wf|ws|ye|yt|yu|za|zm|zw)\\b/?(?!@)))\"\"\"\n",
    "    return re.sub(URL_PATTERN, 'xxurl', text)\n",
    "\n",
    "def replace_rep(text):\n",
    "    def _replace_rep(m):\n",
    "        c,cc = m.groups()\n",
    "        return f'{c}xxrep'\n",
    "    re_rep = re.compile(r'(\\S)(\\1{2,})')\n",
    "    return re_rep.sub(_replace_rep, text)\n",
    "\n",
    "def ungroup_emoji(toks):\n",
    "    res = []\n",
    "    for tok in toks:\n",
    "        if emoji.emoji_count(tok) == len(tok):\n",
    "            for char in tok:\n",
    "                res.append(char)\n",
    "        else:\n",
    "            res.append(tok)\n",
    "    return res\n",
    "\n",
    "def process_text(text):\n",
    "    #pre rules\n",
    "    res = text.lower().strip()\n",
    "    res = replace_url(res)\n",
    "    res = replace_rep(res)\n",
    "    \n",
    "    #tokenize\n",
    "    res = [word for word in word_tokenize(res) if word and not re.search(pattern=r\"\\s+\", string=word)]\n",
    "    \n",
    "    #post rules\n",
    "    res = ungroup_emoji(res)\n",
    "    \n",
    "    return res\n",
    "def convert(list):\n",
    "     \n",
    "    # Converting integer list to string list\n",
    "    s = [str(i) for i in list]\n",
    "     \n",
    "    # Join list items using join()\n",
    "    res = int(\"\".join(s))\n",
    "     \n",
    "    return(res)"
   ]
  },
  {
   "cell_type": "markdown",
   "id": "86aa415d",
   "metadata": {},
   "source": [
    "# Data preprocessing"
   ]
  },
  {
   "cell_type": "markdown",
   "id": "775cfa1f",
   "metadata": {},
   "source": [
    "##### -----ไม่แน่ใจว่าอยากให้ทำ train/valid จากไฟล์ train แล้วทำ blind Test จากไฟล์ test หรือแบ่งตามชื่อไฟล์ เลยทำตามชื่อไฟล์แล้วกันครับ -----"
   ]
  },
  {
   "cell_type": "code",
   "execution_count": 3,
   "id": "2a6712b2",
   "metadata": {},
   "outputs": [
    {
     "data": {
      "text/html": [
       "<div>\n",
       "<style scoped>\n",
       "    .dataframe tbody tr th:only-of-type {\n",
       "        vertical-align: middle;\n",
       "    }\n",
       "\n",
       "    .dataframe tbody tr th {\n",
       "        vertical-align: top;\n",
       "    }\n",
       "\n",
       "    .dataframe thead th {\n",
       "        text-align: right;\n",
       "    }\n",
       "</style>\n",
       "<table border=\"1\" class=\"dataframe\">\n",
       "  <thead>\n",
       "    <tr style=\"text-align: right;\">\n",
       "      <th></th>\n",
       "      <th>text</th>\n",
       "      <th>target</th>\n",
       "    </tr>\n",
       "  </thead>\n",
       "  <tbody>\n",
       "    <tr>\n",
       "      <th>0</th>\n",
       "      <td>ทำงานคนหมู่มากความเห็นต่างเยอะไม่ออกความเห็นก็...</td>\n",
       "      <td>adl</td>\n",
       "    </tr>\n",
       "    <tr>\n",
       "      <th>1</th>\n",
       "      <td>ชอบโมโห ชอบขึ้นเสียง ชอบหัวร้อนใส่เขาจนทำให้เข...</td>\n",
       "      <td>guilt</td>\n",
       "    </tr>\n",
       "    <tr>\n",
       "      <th>2</th>\n",
       "      <td>เมื่อด่นเดินหด้ใาล้มเมื่วันทร่,17ดย.สัโพกปักต...</td>\n",
       "      <td>adl</td>\n",
       "    </tr>\n",
       "    <tr>\n",
       "      <th>3</th>\n",
       "      <td>แต่ก่อนหนูตั้งใจทำงานมาก จดจ่อแต่กับเรื่องนั้น...</td>\n",
       "      <td>adl</td>\n",
       "    </tr>\n",
       "    <tr>\n",
       "      <th>4</th>\n",
       "      <td>แต่ก่อนเราชอบวาดรูปค่ะ ว่างก็วาด ทำงานเสร็จก็ว...</td>\n",
       "      <td>adl</td>\n",
       "    </tr>\n",
       "    <tr>\n",
       "      <th>...</th>\n",
       "      <td>...</td>\n",
       "      <td>...</td>\n",
       "    </tr>\n",
       "    <tr>\n",
       "      <th>295</th>\n",
       "      <td>ตอนนี้ผมต้องมาคอยดูแลผู้หญิงซึ่งไม่ใช่ญาติอะไร...</td>\n",
       "      <td>adl</td>\n",
       "    </tr>\n",
       "    <tr>\n",
       "      <th>296</th>\n",
       "      <td>รู้สึกว่าตัวเองทำอะไรเเล้วคนอื่นไม่เห็นด้วยค่ะ...</td>\n",
       "      <td>guilt</td>\n",
       "    </tr>\n",
       "    <tr>\n",
       "      <th>297</th>\n",
       "      <td>คือ หนูแชร์โพสในโซเชี่ยล แล้วทางแฟนของเราเขาลง...</td>\n",
       "      <td>guilt</td>\n",
       "    </tr>\n",
       "    <tr>\n",
       "      <th>298</th>\n",
       "      <td>เพราะงานหนัก เรียนหนัก เลยรู้สึกเหนื่อย บางทีถ...</td>\n",
       "      <td>adl</td>\n",
       "    </tr>\n",
       "    <tr>\n",
       "      <th>299</th>\n",
       "      <td>บางวันมาทำงานก็เจอคนรอบข้าง ทำตัวไม่โอเครกับเร...</td>\n",
       "      <td>adl</td>\n",
       "    </tr>\n",
       "  </tbody>\n",
       "</table>\n",
       "<p>300 rows × 2 columns</p>\n",
       "</div>"
      ],
      "text/plain": [
       "                                                  text target\n",
       "0    ทำงานคนหมู่มากความเห็นต่างเยอะไม่ออกความเห็นก็...    adl\n",
       "1    ชอบโมโห ชอบขึ้นเสียง ชอบหัวร้อนใส่เขาจนทำให้เข...  guilt\n",
       "2     เมื่อด่นเดินหด้ใาล้มเมื่วันทร่,17ดย.สัโพกปักต...    adl\n",
       "3    แต่ก่อนหนูตั้งใจทำงานมาก จดจ่อแต่กับเรื่องนั้น...    adl\n",
       "4    แต่ก่อนเราชอบวาดรูปค่ะ ว่างก็วาด ทำงานเสร็จก็ว...    adl\n",
       "..                                                 ...    ...\n",
       "295  ตอนนี้ผมต้องมาคอยดูแลผู้หญิงซึ่งไม่ใช่ญาติอะไร...    adl\n",
       "296  รู้สึกว่าตัวเองทำอะไรเเล้วคนอื่นไม่เห็นด้วยค่ะ...  guilt\n",
       "297  คือ หนูแชร์โพสในโซเชี่ยล แล้วทางแฟนของเราเขาลง...  guilt\n",
       "298  เพราะงานหนัก เรียนหนัก เลยรู้สึกเหนื่อย บางทีถ...    adl\n",
       "299  บางวันมาทำงานก็เจอคนรอบข้าง ทำตัวไม่โอเครกับเร...    adl\n",
       "\n",
       "[300 rows x 2 columns]"
      ]
     },
     "execution_count": 3,
     "metadata": {},
     "output_type": "execute_result"
    }
   ],
   "source": [
    "train_df = pd.read_csv('train.csv')\n",
    "test_df = pd.read_csv('test.csv')\n",
    "\n",
    "train_df.rename(columns={\"class\":\"target\"},inplace = True)\n",
    "test_df.rename(columns={\"class\":\"target\"},inplace = True)\n",
    "\n",
    "train_df\n",
    "#test_df"
   ]
  },
  {
   "cell_type": "code",
   "execution_count": 4,
   "id": "02af9082",
   "metadata": {},
   "outputs": [],
   "source": [
    "#Missing Value\n",
    "#train_df.dropna()\n",
    "#test_df.dropna()"
   ]
  },
  {
   "cell_type": "code",
   "execution_count": 5,
   "id": "f68f7201",
   "metadata": {},
   "outputs": [],
   "source": [
    "#Imbalance Data set \n",
    "#train_df.target.value_counts()/train_df.shape[0]\n",
    "#test_df.target.value_counts()/test_df.shape[0]"
   ]
  },
  {
   "cell_type": "code",
   "execution_count": 6,
   "id": "ffcf284f",
   "metadata": {},
   "outputs": [
    {
     "data": {
      "text/plain": [
       "<Axes: >"
      ]
     },
     "execution_count": 6,
     "metadata": {},
     "output_type": "execute_result"
    },
    {
     "data": {
      "image/png": "[encoded data removed]",
      "text/plain": [
       "<Figure size 640x480 with 1 Axes>"
      ]
     },
     "metadata": {},
     "output_type": "display_data"
    }
   ],
   "source": [
    "train_df.target.value_counts().plot(kind=\"bar\")"
   ]
  },
  {
   "cell_type": "code",
   "execution_count": 7,
   "id": "68afff24",
   "metadata": {},
   "outputs": [
    {
     "data": {
      "text/plain": [
       "<Axes: >"
      ]
     },
     "execution_count": 7,
     "metadata": {},
     "output_type": "execute_result"
    },
    {
     "data": {
      "image/png": "[encoded data removed]",
      "text/plain": [
       "<Figure size 640x480 with 1 Axes>"
      ]
     },
     "metadata": {},
     "output_type": "display_data"
    }
   ],
   "source": [
    "test_df.target.value_counts().plot(kind=\"bar\")"
   ]
  },
  {
   "cell_type": "code",
   "execution_count": 8,
   "id": "6724d55f",
   "metadata": {},
   "outputs": [
    {
     "data": {
      "text/html": [
       "<div>\n",
       "<style scoped>\n",
       "    .dataframe tbody tr th:only-of-type {\n",
       "        vertical-align: middle;\n",
       "    }\n",
       "\n",
       "    .dataframe tbody tr th {\n",
       "        vertical-align: top;\n",
       "    }\n",
       "\n",
       "    .dataframe thead th {\n",
       "        text-align: right;\n",
       "    }\n",
       "</style>\n",
       "<table border=\"1\" class=\"dataframe\">\n",
       "  <thead>\n",
       "    <tr style=\"text-align: right;\">\n",
       "      <th></th>\n",
       "      <th>text</th>\n",
       "      <th>target</th>\n",
       "      <th>processed</th>\n",
       "      <th>wc</th>\n",
       "      <th>uwc</th>\n",
       "    </tr>\n",
       "  </thead>\n",
       "  <tbody>\n",
       "    <tr>\n",
       "      <th>0</th>\n",
       "      <td>ทำงานคนหมู่มากความเห็นต่างเยอะไม่ออกความเห็นก็...</td>\n",
       "      <td>adl</td>\n",
       "      <td>ทำงาน|คน|หมู่|มาก|ความเห็น|ต่าง|เยอะ|ไม่|ออกคว...</td>\n",
       "      <td>22</td>\n",
       "      <td>20</td>\n",
       "    </tr>\n",
       "    <tr>\n",
       "      <th>1</th>\n",
       "      <td>ชอบโมโห ชอบขึ้นเสียง ชอบหัวร้อนใส่เขาจนทำให้เข...</td>\n",
       "      <td>guilt</td>\n",
       "      <td>ชอบ|โมโห|ชอบ|ขึ้นเสียง|ชอบ|หัว|ร้อน|ใส่|เขา|จน...</td>\n",
       "      <td>20</td>\n",
       "      <td>16</td>\n",
       "    </tr>\n",
       "    <tr>\n",
       "      <th>2</th>\n",
       "      <td>เมื่อด่นเดินหด้ใาล้มเมื่วันทร่,17ดย.สัโพกปักต...</td>\n",
       "      <td>adl</td>\n",
       "      <td>เมื่อ|ด่น|เดิน|หด้ใา|ล้ม|เม|ื่|วัน|ทร่|,17|ดย|...</td>\n",
       "      <td>47</td>\n",
       "      <td>45</td>\n",
       "    </tr>\n",
       "    <tr>\n",
       "      <th>3</th>\n",
       "      <td>แต่ก่อนหนูตั้งใจทำงานมาก จดจ่อแต่กับเรื่องนั้น...</td>\n",
       "      <td>adl</td>\n",
       "      <td>แต่ก่อน|หนู|ตั้งใจ|ทำงาน|มาก|จดจ่อ|แต่|กับ|เรื...</td>\n",
       "      <td>33</td>\n",
       "      <td>29</td>\n",
       "    </tr>\n",
       "    <tr>\n",
       "      <th>4</th>\n",
       "      <td>แต่ก่อนเราชอบวาดรูปค่ะ ว่างก็วาด ทำงานเสร็จก็ว...</td>\n",
       "      <td>adl</td>\n",
       "      <td>แต่ก่อน|เรา|ชอบ|วาดรูป|ค่ะ|ว่าง|ก็|วาด|ทำงาน|เ...</td>\n",
       "      <td>77</td>\n",
       "      <td>55</td>\n",
       "    </tr>\n",
       "    <tr>\n",
       "      <th>...</th>\n",
       "      <td>...</td>\n",
       "      <td>...</td>\n",
       "      <td>...</td>\n",
       "      <td>...</td>\n",
       "      <td>...</td>\n",
       "    </tr>\n",
       "    <tr>\n",
       "      <th>295</th>\n",
       "      <td>ตอนนี้ผมต้องมาคอยดูแลผู้หญิงซึ่งไม่ใช่ญาติอะไร...</td>\n",
       "      <td>adl</td>\n",
       "      <td>ตอนนี้|ผม|ต้อง|มา|คอย|ดูแล|ผู้หญิง|ซึ่ง|ไม่|ใช...</td>\n",
       "      <td>42</td>\n",
       "      <td>33</td>\n",
       "    </tr>\n",
       "    <tr>\n",
       "      <th>296</th>\n",
       "      <td>รู้สึกว่าตัวเองทำอะไรเเล้วคนอื่นไม่เห็นด้วยค่ะ...</td>\n",
       "      <td>guilt</td>\n",
       "      <td>รู้สึก|ว่า|ตัวเอง|ทำ|อะไร|เเล้ว|คนอื่น|ไม่|เห็...</td>\n",
       "      <td>19</td>\n",
       "      <td>17</td>\n",
       "    </tr>\n",
       "    <tr>\n",
       "      <th>297</th>\n",
       "      <td>คือ หนูแชร์โพสในโซเชี่ยล แล้วทางแฟนของเราเขาลง...</td>\n",
       "      <td>guilt</td>\n",
       "      <td>คือ|หนู|แชร์|โพส|ใน|โซ|เชี่ยล|แล้ว|ทาง|แฟน|ของ...</td>\n",
       "      <td>40</td>\n",
       "      <td>30</td>\n",
       "    </tr>\n",
       "    <tr>\n",
       "      <th>298</th>\n",
       "      <td>เพราะงานหนัก เรียนหนัก เลยรู้สึกเหนื่อย บางทีถ...</td>\n",
       "      <td>adl</td>\n",
       "      <td>เพราะ|งานหนัก|เรียน|หนัก|เลย|รู้สึก|เหนื่อย|บา...</td>\n",
       "      <td>22</td>\n",
       "      <td>21</td>\n",
       "    </tr>\n",
       "    <tr>\n",
       "      <th>299</th>\n",
       "      <td>บางวันมาทำงานก็เจอคนรอบข้าง ทำตัวไม่โอเครกับเร...</td>\n",
       "      <td>adl</td>\n",
       "      <td>บาง|วัน|มา|ทำงาน|ก็|เจอ|คน|รอบข้าง|ทำตัว|ไม่|โ...</td>\n",
       "      <td>30</td>\n",
       "      <td>24</td>\n",
       "    </tr>\n",
       "  </tbody>\n",
       "</table>\n",
       "<p>300 rows × 5 columns</p>\n",
       "</div>"
      ],
      "text/plain": [
       "                                                  text target  \\\n",
       "0    ทำงานคนหมู่มากความเห็นต่างเยอะไม่ออกความเห็นก็...    adl   \n",
       "1    ชอบโมโห ชอบขึ้นเสียง ชอบหัวร้อนใส่เขาจนทำให้เข...  guilt   \n",
       "2     เมื่อด่นเดินหด้ใาล้มเมื่วันทร่,17ดย.สัโพกปักต...    adl   \n",
       "3    แต่ก่อนหนูตั้งใจทำงานมาก จดจ่อแต่กับเรื่องนั้น...    adl   \n",
       "4    แต่ก่อนเราชอบวาดรูปค่ะ ว่างก็วาด ทำงานเสร็จก็ว...    adl   \n",
       "..                                                 ...    ...   \n",
       "295  ตอนนี้ผมต้องมาคอยดูแลผู้หญิงซึ่งไม่ใช่ญาติอะไร...    adl   \n",
       "296  รู้สึกว่าตัวเองทำอะไรเเล้วคนอื่นไม่เห็นด้วยค่ะ...  guilt   \n",
       "297  คือ หนูแชร์โพสในโซเชี่ยล แล้วทางแฟนของเราเขาลง...  guilt   \n",
       "298  เพราะงานหนัก เรียนหนัก เลยรู้สึกเหนื่อย บางทีถ...    adl   \n",
       "299  บางวันมาทำงานก็เจอคนรอบข้าง ทำตัวไม่โอเครกับเร...    adl   \n",
       "\n",
       "                                             processed  wc  uwc  \n",
       "0    ทำงาน|คน|หมู่|มาก|ความเห็น|ต่าง|เยอะ|ไม่|ออกคว...  22   20  \n",
       "1    ชอบ|โมโห|ชอบ|ขึ้นเสียง|ชอบ|หัว|ร้อน|ใส่|เขา|จน...  20   16  \n",
       "2    เมื่อ|ด่น|เดิน|หด้ใา|ล้ม|เม|ื่|วัน|ทร่|,17|ดย|...  47   45  \n",
       "3    แต่ก่อน|หนู|ตั้งใจ|ทำงาน|มาก|จดจ่อ|แต่|กับ|เรื...  33   29  \n",
       "4    แต่ก่อน|เรา|ชอบ|วาดรูป|ค่ะ|ว่าง|ก็|วาด|ทำงาน|เ...  77   55  \n",
       "..                                                 ...  ..  ...  \n",
       "295  ตอนนี้|ผม|ต้อง|มา|คอย|ดูแล|ผู้หญิง|ซึ่ง|ไม่|ใช...  42   33  \n",
       "296  รู้สึก|ว่า|ตัวเอง|ทำ|อะไร|เเล้ว|คนอื่น|ไม่|เห็...  19   17  \n",
       "297  คือ|หนู|แชร์|โพส|ใน|โซ|เชี่ยล|แล้ว|ทาง|แฟน|ของ...  40   30  \n",
       "298  เพราะ|งานหนัก|เรียน|หนัก|เลย|รู้สึก|เหนื่อย|บา...  22   21  \n",
       "299  บาง|วัน|มา|ทำงาน|ก็|เจอ|คน|รอบข้าง|ทำตัว|ไม่|โ...  30   24  \n",
       "\n",
       "[300 rows x 5 columns]"
      ]
     },
     "execution_count": 8,
     "metadata": {},
     "output_type": "execute_result"
    }
   ],
   "source": [
    "#train\n",
    "train_df['processed'] = train_df.text.map(lambda x: '|'.join(process_text(x)))\n",
    "train_df['wc'] = train_df.processed.map(lambda x: len(x.split('|')))\n",
    "train_df['uwc'] = train_df.processed.map(lambda x: len(set(x.split('|'))))\n",
    "\n",
    "#test\n",
    "test_df['processed'] = test_df.text.map(lambda x: '|'.join(process_text(x)))\n",
    "test_df['wc'] = test_df.processed.map(lambda x: len(x.split('|')))\n",
    "test_df['uwc'] = test_df.processed.map(lambda x: len(set(x.split('|'))))\n",
    "train_df"
   ]
  },
  {
   "cell_type": "code",
   "execution_count": 9,
   "id": "48d89afd",
   "metadata": {},
   "outputs": [
    {
     "name": "stderr",
     "output_type": "stream",
     "text": [
      "/Users/lapislux/opt/anaconda3/envs/tf/lib/python3.10/site-packages/sklearn/feature_extraction/text.py:524: UserWarning: The parameter 'token_pattern' will not be used since 'tokenizer' is not None'\n"
     ]
    },
    {
     "data": {
      "text/plain": [
       "((300, 214), (100, 214))"
      ]
     },
     "execution_count": 9,
     "metadata": {},
     "output_type": "execute_result"
    }
   ],
   "source": [
    "tfidf = TfidfVectorizer(tokenizer=process_text, ngram_range=(1,2), min_df=10, sublinear_tf=True)\n",
    "tfidf_fit = tfidf.fit(train_df['text'])\n",
    "\n",
    "text_train = tfidf_fit.transform(train_df['text'])\n",
    "test_feature = tfidf_fit.transform(test_df['text'])\n",
    "\n",
    "text_train.shape, test_feature.shape"
   ]
  },
  {
   "cell_type": "code",
   "execution_count": 10,
   "id": "aa877fc9",
   "metadata": {},
   "outputs": [
    {
     "data": {
      "text/plain": [
       "((300, 214), (100, 214))"
      ]
     },
     "execution_count": 10,
     "metadata": {},
     "output_type": "execute_result"
    }
   ],
   "source": [
    "x_train = text_train.toarray()\n",
    "x_test = test_feature.toarray()\n",
    "\n",
    "y_train = train_df['target']\n",
    "y_test = test_df['target']\n",
    "\n",
    "\n",
    "x_train.shape, x_test.shape"
   ]
  },
  {
   "cell_type": "markdown",
   "id": "d330c80d",
   "metadata": {},
   "source": [
    "###### ----------Data set มีปัญหา imbalance โดยปกติการเลือก OverSampling อาจทำให้เกิด Overfitting แต่เนื่องจากข้อมูลมีน้อยเกินไปและไม่สามารถหาข้อมูลจริงมาเพิ่มได้จึงต้องเลือก OverSampling ----------"
   ]
  },
  {
   "cell_type": "code",
   "execution_count": 11,
   "id": "f61c8524",
   "metadata": {},
   "outputs": [
    {
     "name": "stdout",
     "output_type": "stream",
     "text": [
      "Counter({'adl': 240, 'guilt': 240})\n"
     ]
    }
   ],
   "source": [
    "import imblearn\n",
    "\n",
    "from collections import Counter\n",
    "from sklearn.datasets import make_classification\n",
    "from imblearn.over_sampling import RandomOverSampler\n",
    "\n",
    "X= x_train\n",
    "y=train_df['target']\n",
    "\n",
    "oversample = RandomOverSampler(sampling_strategy='minority')\n",
    "X_over, y_over = oversample.fit_resample(X,y)\n",
    "\n",
    "print(Counter(y_over))"
   ]
  },
  {
   "cell_type": "code",
   "execution_count": 12,
   "id": "29aa16ea",
   "metadata": {},
   "outputs": [],
   "source": [
    "x_train = X_over\n",
    "y_train = y_over"
   ]
  },
  {
   "cell_type": "markdown",
   "id": "0a55c769",
   "metadata": {},
   "source": [
    "# Model and Parameter"
   ]
  },
  {
   "cell_type": "code",
   "execution_count": 21,
   "id": "5604f701",
   "metadata": {},
   "outputs": [
    {
     "name": "stdout",
     "output_type": "stream",
     "text": [
      "KNN Best Score: 0.9270833333333333\n",
      "KNN Best Params: {'n_neighbors': 1}\n",
      "\n",
      "Random Forest Best Score: 0.9833333333333334\n",
      "Random Forest Best Params: {'criterion': 'gini', 'n_estimators': 56}\n",
      "\n",
      "MultinomialNB Best Score: 0.9416666666666667\n",
      "MultinomialNB Best Params: {'alpha': 0.01}\n",
      "\n",
      "ComplementNB Best Score: 0.9416666666666667\n",
      "ComplementNB Best Params: {'alpha': 0.01}\n",
      "\n",
      "LinearSVC Best Score: 0.9416666666666667\n",
      "LinearSVC Best Params: {'C': 3.01}\n",
      "\n",
      "LogisticRegression Best Score: 0.9416666666666667\n",
      "LogisticRegression Best Params: {'C': 3.4899999999999998}\n",
      "\n",
      "Total Time: 1195.4772379398346 - Second\n"
     ]
    }
   ],
   "source": [
    "time_start = time.time()\n",
    "\n",
    "#----- KNN -----\n",
    "knn = KNeighborsClassifier()\n",
    "knn_params = {'n_neighbors': range(1, 100, 2)}\n",
    "\n",
    "knn_grid = GridSearchCV(estimator=knn, param_grid=knn_params)\n",
    "knn_grid.fit(x_train, y_train)\n",
    "\n",
    "print('KNN Best Score:', knn_grid.best_score_)\n",
    "print('KNN Best Params:', knn_grid.best_params_)\n",
    "print()\n",
    "\n",
    "#----- Random Forest -----\n",
    "forest = RandomForestClassifier(random_state=0)\n",
    "forest_params = {\n",
    "    'n_estimators': range(10, 100, 1),\n",
    "    'criterion': ['entropy', 'gini'],\n",
    "}\n",
    "forest_grid = GridSearchCV(estimator=forest, param_grid=forest_params)\n",
    "forest_grid.fit(x_train, y_train)\n",
    "\n",
    "print ('Random Forest Best Score:', forest_grid.best_score_)\n",
    "print ('Random Forest Best Params:', forest_grid.best_params_)\n",
    "print()\n",
    "\n",
    "#----- MultinomialNB -----\n",
    "MNB = MultinomialNB()\n",
    "MNB_params = {'alpha': np.arange(0.01,100,0.01)}\n",
    "\n",
    "MNB_grid = GridSearchCV(estimator=MNB, param_grid=MNB_params)\n",
    "MNB_grid.fit(x_train, y_train)\n",
    "\n",
    "print('MultinomialNB Best Score:', MNB_grid.best_score_)\n",
    "print('MultinomialNB Best Params:', MNB_grid.best_params_)\n",
    "print()\n",
    "\n",
    "#---- ComplementNB ----\n",
    "CNB = ComplementNB()\n",
    "CNB_params = {'alpha': np.arange(0.01,100,0.01)}\n",
    "\n",
    "CNB_grid = GridSearchCV(estimator=CNB, param_grid=CNB_params,return_train_score=True)\n",
    "CNB_grid.fit(x_train, y_train)\n",
    "\n",
    "print('ComplementNB Best Score:', CNB_grid.best_score_)\n",
    "print('ComplementNB Best Params:', CNB_grid.best_params_)\n",
    "print()\n",
    "\n",
    "#-----LinearSVC-----\n",
    "LSVC = LinearSVC(max_iter =10000)\n",
    "LSVC_params = {\n",
    "    'C' : np.arange(0.01,100,0.01),\n",
    "}\n",
    "    \n",
    "LSVC_grid = GridSearchCV(estimator=LSVC, param_grid=LSVC_params)\n",
    "LSVC_grid.fit(x_train, y_train)\n",
    "\n",
    "print('LinearSVC Best Score:', LSVC_grid.best_score_)\n",
    "print('LinearSVC Best Params:', LSVC_grid.best_params_)\n",
    "print()\n",
    "\n",
    "#-----LogisticRegression-----\n",
    "LR = LogisticRegression()\n",
    "LR_params = {\n",
    "    'C' : np.arange(0.01,100,0.01),\n",
    "    #'penalty': ['l1', 'l2','elasticnet']\n",
    "}\n",
    "    \n",
    "LR_grid = GridSearchCV(estimator=LR, param_grid=LR_params)\n",
    "LR_grid.fit(x_train, y_train)\n",
    "\n",
    "print('LogisticRegression Best Score:', LR_grid.best_score_)\n",
    "print('LogisticRegression Best Params:', LR_grid.best_params_)\n",
    "print()\n",
    "#---------------------------------------\n",
    "\n",
    "time_end = time.time()\n",
    "print(f'Total Time: {time_end - time_start} - Second')"
   ]
  },
  {
   "cell_type": "markdown",
   "id": "7698d3db",
   "metadata": {},
   "source": [
    "# Evaluation"
   ]
  },
  {
   "cell_type": "code",
   "execution_count": 22,
   "id": "34e6e18c",
   "metadata": {},
   "outputs": [
    {
     "name": "stdout",
     "output_type": "stream",
     "text": [
      "--------------------------- KNN ---------------------------\n",
      "              precision    recall  f1-score   support\n",
      "\n",
      "         adl       0.89      0.88      0.88        80\n",
      "       guilt       0.52      0.55      0.54        20\n",
      "\n",
      "    accuracy                           0.81       100\n",
      "   macro avg       0.70      0.71      0.71       100\n",
      "weighted avg       0.81      0.81      0.81       100\n",
      "\n"
     ]
    }
   ],
   "source": [
    "print(\"--------------------------- KNN ---------------------------\")\n",
    "KNN_B = KNeighborsClassifier(n_neighbors = 1)\n",
    "KNN_B.fit(x_train,y_train)\n",
    "KNN_B.score(x_train,y_train)\n",
    "test_pred = KNN_B.predict(test_feature)\n",
    "print(classification_report(test_df['target'], test_pred))"
   ]
  },
  {
   "cell_type": "code",
   "execution_count": 23,
   "id": "16bedebc",
   "metadata": {},
   "outputs": [
    {
     "name": "stdout",
     "output_type": "stream",
     "text": [
      "--------------------- Random Forest -----------------------\n",
      "              precision    recall  f1-score   support\n",
      "\n",
      "         adl       0.94      0.96      0.95        80\n",
      "       guilt       0.83      0.75      0.79        20\n",
      "\n",
      "    accuracy                           0.92       100\n",
      "   macro avg       0.89      0.86      0.87       100\n",
      "weighted avg       0.92      0.92      0.92       100\n",
      "\n"
     ]
    }
   ],
   "source": [
    "print(\"--------------------- Random Forest -----------------------\")\n",
    "test_pred = forest_grid.predict(test_feature)\n",
    "RF_B = RandomForestClassifier(criterion = 'gini', n_estimators=30)\n",
    "RF_B.fit(x_train,y_train)\n",
    "RF_B.score(x_train,y_train)\n",
    "test_pred = RF_B.predict(test_feature)\n",
    "print(classification_report(test_df['target'], test_pred))"
   ]
  },
  {
   "cell_type": "code",
   "execution_count": 24,
   "id": "e27dcda0",
   "metadata": {},
   "outputs": [
    {
     "name": "stdout",
     "output_type": "stream",
     "text": [
      "------------------ Multinomial Naive Bayes -------------------\n",
      "              precision    recall  f1-score   support\n",
      "\n",
      "         adl       0.97      0.89      0.93        80\n",
      "       guilt       0.67      0.90      0.77        20\n",
      "\n",
      "    accuracy                           0.89       100\n",
      "   macro avg       0.82      0.89      0.85       100\n",
      "weighted avg       0.91      0.89      0.90       100\n",
      "\n"
     ]
    }
   ],
   "source": [
    "print(\"------------------ Multinomial Naive Bayes -------------------\")\n",
    "MNB_B = MultinomialNB(alpha = 0.01)\n",
    "MNB_B.fit(x_train,y_train)\n",
    "MNB_B.score(x_train,y_train)\n",
    "test_pred = MNB_B.predict(test_feature)\n",
    "print(classification_report(test_df['target'], test_pred))"
   ]
  },
  {
   "cell_type": "code",
   "execution_count": 25,
   "id": "aec44a88",
   "metadata": {},
   "outputs": [
    {
     "name": "stdout",
     "output_type": "stream",
     "text": [
      "------------------- Complement Naive Bayes--------------------\n",
      "              precision    recall  f1-score   support\n",
      "\n",
      "         adl       0.97      0.89      0.93        80\n",
      "       guilt       0.67      0.90      0.77        20\n",
      "\n",
      "    accuracy                           0.89       100\n",
      "   macro avg       0.82      0.89      0.85       100\n",
      "weighted avg       0.91      0.89      0.90       100\n",
      "\n"
     ]
    }
   ],
   "source": [
    "print(\"------------------- Complement Naive Bayes--------------------\")\n",
    "CNB_B = ComplementNB(alpha = 0.01)\n",
    "CNB_B.fit(x_train,y_train)\n",
    "CNB_B.score(x_train,y_train)\n",
    "test_pred = CNB_B.predict(test_feature)\n",
    "print(classification_report(test_df['target'], test_pred))"
   ]
  },
  {
   "cell_type": "code",
   "execution_count": 26,
   "id": "78bc795b",
   "metadata": {},
   "outputs": [
    {
     "name": "stdout",
     "output_type": "stream",
     "text": [
      "----------------------- LinearSVC -------------------------\n",
      "              precision    recall  f1-score   support\n",
      "\n",
      "         adl       0.93      0.94      0.93        80\n",
      "       guilt       0.74      0.70      0.72        20\n",
      "\n",
      "    accuracy                           0.89       100\n",
      "   macro avg       0.83      0.82      0.82       100\n",
      "weighted avg       0.89      0.89      0.89       100\n",
      "\n"
     ]
    }
   ],
   "source": [
    "print(\"----------------------- LinearSVC -------------------------\")\n",
    "LSVC_B = LinearSVC(C = 3.01)\n",
    "LSVC_B.fit(x_train,y_train)\n",
    "LSVC_B.score(x_train,y_train)\n",
    "test_pred = LSVC_B.predict(test_feature)\n",
    "print(classification_report(test_df['target'], test_pred))"
   ]
  },
  {
   "cell_type": "code",
   "execution_count": 27,
   "id": "5c1d9bf7",
   "metadata": {},
   "outputs": [
    {
     "name": "stdout",
     "output_type": "stream",
     "text": [
      "------------------- LogisticRegression ---------------------\n",
      "              precision    recall  f1-score   support\n",
      "\n",
      "         adl       0.95      0.91      0.93        80\n",
      "       guilt       0.70      0.80      0.74        20\n",
      "\n",
      "    accuracy                           0.89       100\n",
      "   macro avg       0.82      0.86      0.84       100\n",
      "weighted avg       0.90      0.89      0.89       100\n",
      "\n"
     ]
    }
   ],
   "source": [
    "print(\"------------------- LogisticRegression ---------------------\")\n",
    "LR_B = LogisticRegression(C = 3.4899999999999998)\n",
    "LR_B.fit(x_train,y_train)\n",
    "LR_B.score(x_train,y_train)\n",
    "test_pred = LR_B.predict(test_feature)\n",
    "print(classification_report(test_df['target'], test_pred))"
   ]
  },
  {
   "cell_type": "code",
   "execution_count": 41,
   "id": "931b9d78",
   "metadata": {},
   "outputs": [
    {
     "name": "stdout",
     "output_type": "stream",
     "text": [
      "              precision    recall  f1-score   support\n",
      "\n",
      "         adl       0.94      0.97      0.96        80\n",
      "       guilt       0.88      0.75      0.81        20\n",
      "\n",
      "    accuracy                           0.93       100\n",
      "   macro avg       0.91      0.86      0.88       100\n",
      "weighted avg       0.93      0.93      0.93       100\n",
      "\n"
     ]
    }
   ],
   "source": [
    "estimators = [#('KNN',KNN_B),\n",
    "            ('RF',RF_B),\n",
    "            #('MNB',MNB_B),\n",
    "            #('CNB',CNB_B),\n",
    "            ('LSVC',LSVC_B),\n",
    "            ('LR',LR_B)]\n",
    "clf = StackingClassifier(estimators=estimators,final_estimator=LR_B)\n",
    "clf.fit(text_train, train_df['target'])\n",
    "test_pred = clf.predict(test_feature)\n",
    "print(classification_report(test_df['target'], test_pred))"
   ]
  },
  {
   "cell_type": "code",
   "execution_count": 42,
   "id": "22ff4137",
   "metadata": {},
   "outputs": [],
   "source": [
    "sumlong = test_pred"
   ]
  },
  {
   "cell_type": "code",
   "execution_count": 140,
   "id": "12e72cc7",
   "metadata": {},
   "outputs": [
    {
     "data": {
      "text/plain": [
       "array([[78,  2],\n",
       "       [ 5, 15]])"
      ]
     },
     "execution_count": 140,
     "metadata": {},
     "output_type": "execute_result"
    }
   ],
   "source": [
    "from sklearn.metrics import confusion_matrix, ConfusionMatrixDisplay\n",
    "y_true = y_test.to_numpy()\n",
    "y_pred = test_pred\n",
    "confusion_matrix(y_true, y_pred)"
   ]
  },
  {
   "cell_type": "code",
   "execution_count": 141,
   "id": "147e5b4a",
   "metadata": {},
   "outputs": [
    {
     "data": {
      "image/png": "[encoded data removed]",
      "text/plain": [
       "<Figure size 640x480 with 2 Axes>"
      ]
     },
     "metadata": {},
     "output_type": "display_data"
    }
   ],
   "source": [
    "cm = confusion_matrix(y_test, y_pred, labels=clf.classes_)\n",
    "disp = ConfusionMatrixDisplay(confusion_matrix=cm,\n",
    "                              display_labels=clf.classes_)\n",
    "disp.plot()\n",
    "plt.show()"
   ]
  }
 ],
 "metadata": {
  "kernelspec": {
   "display_name": "Python 3 (ipykernel)",
   "language": "python",
   "name": "python3"
  },
  "language_info": {
   "codemirror_mode": {
    "name": "ipython",
    "version": 3
   },
   "file_extension": ".py",
   "mimetype": "text/x-python",
   "name": "python",
   "nbconvert_exporter": "python",
   "pygments_lexer": "ipython3",
   "version": "3.10.4"
  }
 },
 "nbformat": 4,
 "nbformat_minor": 5
}
